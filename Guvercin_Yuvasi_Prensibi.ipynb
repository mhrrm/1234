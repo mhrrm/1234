{
  "nbformat": 4,
  "nbformat_minor": 0,
  "metadata": {
    "colab": {
      "name": "Untitled1.ipynb",
      "version": "0.3.2",
      "provenance": [],
      "include_colab_link": true
    },
    "kernelspec": {
      "name": "python3",
      "display_name": "Python 3"
    }
  },
  "cells": [
    {
      "cell_type": "markdown",
      "metadata": {
        "id": "view-in-github",
        "colab_type": "text"
      },
      "source": [
        "<a href=\"https://colab.research.google.com/github/mhrrm/1234/blob/master/Guvercin_Yuvasi_Prensibi.ipynb\" target=\"_parent\"><img src=\"https://colab.research.google.com/assets/colab-badge.svg\" alt=\"Open In Colab\"/></a>"
      ]
    },
    {
      "metadata": {
        "id": "q9PuaHKn09oS",
        "colab_type": "code",
        "outputId": "e404d7ca-517f-4c7a-c403-706e3cd0f52b",
        "colab": {
          "base_uri": "https://localhost:8080/",
          "height": 72
        }
      },
      "cell_type": "code",
      "source": [
        "\n",
        "def main():\n",
        "    pass\n",
        "\n",
        "if __name__ == '__main__':\n",
        "    main()\n",
        "    \n",
        "def guvercinyuvasi():\n",
        "    yerlesecek=input(\"Yerleşecek şeyin sayısını girin:\")\n",
        "    yerlestirilecek=input(\"Yerleştirilecek yerin bölme sayısını girin:\")\n",
        "    if(yerlesecek!=\"\" and yerlestirilecek!=\"\" and int(yerlesecek)>int(yerlestirilecek)):\n",
        "        print(\"Bir bölmeye en az bu kadar şey yerleştirilmeldir:\" + str(math.ceil(int(yerlesecek)/int(yerlestirilecek))))\n",
        "    else:\n",
        "        print(\"Hata-->Uygun Değerleri Giriniz\")\n",
        "guvercinyuvasi()"
      ],
      "execution_count": 0,
      "outputs": [
        {
          "output_type": "stream",
          "text": [
            "Yerleşecek şeyin sayısını girin:6\n",
            "Yerleştirilecek yerin bölme sayısını girin:5\n",
            "Bir bölmeye en az bu kadar şey yerleştirilmeldir:2\n"
          ],
          "name": "stdout"
        }
      ]
    },
    {
      "metadata": {
        "id": "Afe1kgeeIBZ2",
        "colab_type": "text"
      },
      "cell_type": "markdown",
      "source": [
        "Güvercin yasası ile ilgili bir örnek, python kodu ile yazılmıştır."
      ]
    }
  ]
}