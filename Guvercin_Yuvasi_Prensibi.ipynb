{
  "nbformat": 4,
  "nbformat_minor": 0,
  "metadata": {
    "colab": {
      "name": "Untitled1.ipynb",
      "version": "0.3.2",
      "provenance": []
    },
    "kernelspec": {
      "name": "python3",
      "display_name": "Python 3"
    }
  },
  "cells": [
    {
      "metadata": {
        "id": "q9PuaHKn09oS",
        "colab_type": "code",
        "outputId": "e404d7ca-517f-4c7a-c403-706e3cd0f52b",
        "colab": {
          "base_uri": "https://localhost:8080/",
          "height": 72
        }
      },
      "cell_type": "code",
      "source": [
        "\n",
        "def main():\n",
        "    pass\n",
        "\n",
        "if __name__ == '__main__':\n",
        "    main()\n",
        "    \n",
        "def guvercinyuvasi():\n",
        "    yerlesecek=input(\"Yerleşecek şeyin sayısını girin:\")\n",
        "    yerlestirilecek=input(\"Yerleştirilecek yerin bölme sayısını girin:\")\n",
        "    if(yerlesecek!=\"\" and yerlestirilecek!=\"\" and int(yerlesecek)>int(yerlestirilecek)):\n",
        "        print(\"Bir bölmeye en az bu kadar şey yerleştirilmeldir:\" + str(math.ceil(int(yerlesecek)/int(yerlestirilecek))))\n",
        "    else:\n",
        "        print(\"Hata-->Uygun Değerleri Giriniz\")\n",
        "guvercinyuvasi()"
      ],
      "execution_count": 0,
      "outputs": [
        {
          "output_type": "stream",
          "text": [
            "Yerleşecek şeyin sayısını girin:6\n",
            "Yerleştirilecek yerin bölme sayısını girin:5\n",
            "Bir bölmeye en az bu kadar şey yerleştirilmeldir:2\n"
          ],
          "name": "stdout"
        }
      ]
    }
  ]
}