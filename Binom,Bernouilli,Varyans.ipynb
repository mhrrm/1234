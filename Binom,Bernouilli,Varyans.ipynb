{
  "nbformat": 4,
  "nbformat_minor": 0,
  "metadata": {
    "colab": {
      "name": "Untitled5.ipynb",
      "version": "0.3.2",
      "provenance": [],
      "include_colab_link": true
    },
    "kernelspec": {
      "name": "python3",
      "display_name": "Python 3"
    }
  },
  "cells": [
    {
      "cell_type": "markdown",
      "metadata": {
        "id": "view-in-github",
        "colab_type": "text"
      },
      "source": [
        "<a href=\"https://colab.research.google.com/github/mhrrm/1234/blob/master/Binom%2CBernouilli%2CVaryans.ipynb\" target=\"_parent\"><img src=\"https://colab.research.google.com/assets/colab-badge.svg\" alt=\"Open In Colab\"/></a>"
      ]
    },
    {
      "cell_type": "code",
      "metadata": {
        "id": "U85WF7b_8IKo",
        "colab_type": "code",
        "colab": {
          "base_uri": "https://localhost:8080/",
          "height": 72
        },
        "outputId": "5fd6c1a8-9556-4cd6-ffb3-9d33ac02d196"
      },
      "source": [
        "\"\"\" 1-2)Bernoulli,Binom :Bir olasılık deneyinde 2 olası sonuç varsa bu deney \n",
        "bernouilli deneyidir.Eğer n defa bernouilli deneyi gerçekleştirilirse buna binom \n",
        "dağılımı denir. n defada x başarı olasılığı hesaplanır.\n",
        "Binom dğılımı olasılık hesap formülü : C(n,x).P^x.q^n(n-x)\n",
        "\n",
        "Örnek: Bir hastanede bir hastalıktan iyileşme olasılığı 0,83 tür. Hastaneye\n",
        "gelen 15 kişiden 14'ünün iyileşme olaslığı nedir?\n",
        "\n",
        "Binom      \n",
        "n = 15, x=14, p=0,83 q=p-q=0,17\n",
        "\n",
        "C(n,x).P^x.q^(n-x)\n",
        "\n",
        "=C(15,14).0,83^14.0,17^(15-14)\n",
        "\n",
        "=15.0,06.0,17\n",
        "\n",
        "~=0,187\n",
        "\n",
        "Bernouilli\n",
        "\n",
        "P(x)= (p^x)(1-p)^(1-x)\n",
        "p=0,83\n",
        "P(0)= (p^0)(1-0,83)^(1-0)\n",
        "P(0)=0,17\n",
        "P(1)= (p^1)(1-0,83)^(1-1)\n",
        "P(1)=0,83\n",
        "        \n",
        "  \n",
        "3-Varyans: Üç öğrencinin notları 2,4 ve 5'tir. Bu üç öğrencinin notunun varyansını\n",
        "hesaplayınız.\n",
        "\n",
        "n1=2\n",
        "n2=4\n",
        "n3=5\n",
        "\n",
        "Var=X2-X**2\n",
        "Var=1,55\n",
        "\n",
        "\n",
        "\"\"\"\n",
        "\n",
        "def faktoriyel(x):\n",
        "        carpim=1\n",
        "        i=1\n",
        "        while i<=x:\n",
        "            carpim=carpim*i\n",
        "            i=i+1\n",
        "        return carpim\n",
        "      \n",
        "def kombinasyon(n,r):\n",
        "\n",
        "        return faktoriyel(n)/(faktoriyel(r)*faktoriyel(n-r))\n",
        "\n",
        "def artimetikortalamaX(n1,n2,n3):    #Aritmetik ortalama (X) fonksiyonu\n",
        "    nt=(n1+n2+n3)/3\n",
        "    return nt\n",
        "\n",
        "def kareliortlamaX2(n1,n2,n3):        #Kareli ortalama (X2) fonksiyonu\n",
        "    nk=(n1**2+n2**2+n3**2)/3\n",
        "    return nk\n",
        "\n",
        "def varyansVar(aritmetiko,karelio): #Varyans standart sapmanın karesi ya da\n",
        "    nvar=karelio-aritmetiko**2      #kareli ortalama ile aritmetik ortalamanın\n",
        "    return nvar                     # karesine eşittir.Var(X) = E[X2] – (E[X])2\n",
        "\n",
        "def bernouilli(p):\n",
        "    P0=(p**0)*(1-0.83)**(1-0)\n",
        "    P1=(p**1)*(1-0.83)**(1-1)\n",
        "    return \"P(0)=\"+str(P0)+\" P(1)=\"+str(P1)\n",
        "  \n",
        "print(\"Binom=\"+str(kombinasyon(15,14)*(0.83**14)*(0.17**1)))  \n",
        "print(\"Varyans=\"+str(varyansVar(artimetikortalamaX(2,4,5),kareliortlamaX2(2,4,5)))) \n",
        "print(\"Bernouilli=\"+bernouilli(0.83)) \n",
        "#Ekrana yazdır"
      ],
      "execution_count": 13,
      "outputs": [
        {
          "output_type": "stream",
          "text": [
            "Binom=0.18777314214446722\n",
            "Varyans=1.5555555555555571\n",
            "Bernouilli=P(0)=0.17000000000000004 P(1)=0.83\n"
          ],
          "name": "stdout"
        }
      ]
    }
  ]
}