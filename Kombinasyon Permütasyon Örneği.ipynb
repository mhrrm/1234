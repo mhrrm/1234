{
  "nbformat": 4,
  "nbformat_minor": 0,
  "metadata": {
    "colab": {
      "name": "Untitled2.ipynb",
      "version": "0.3.2",
      "provenance": [],
      "include_colab_link": true
    },
    "kernelspec": {
      "name": "python3",
      "display_name": "Python 3"
    }
  },
  "cells": [
    {
      "cell_type": "markdown",
      "metadata": {
        "id": "view-in-github",
        "colab_type": "text"
      },
      "source": [
        "<a href=\"https://colab.research.google.com/github/mhrrm/1234/blob/master/Kombinasyon%20Perm%C3%BCtasyon%20%C3%96rne%C4%9Fi.ipynb\" target=\"_parent\"><img src=\"https://colab.research.google.com/assets/colab-badge.svg\" alt=\"Open In Colab\"/></a>"
      ]
    },
    {
      "metadata": {
        "id": "oTiU7JDwJKlW",
        "colab_type": "code",
        "colab": {
          "base_uri": "https://localhost:8080/",
          "height": 35
        },
        "outputId": "c1486192-1a35-4bb3-9569-6970bc9e00bd"
      },
      "cell_type": "code",
      "source": [
        "# Örnek1: Bir torbada bulunan 5 farklı bilye arasından 3 bilye kaç farklı\n",
        "#         şekilde seçilebilir?\n",
        "\n",
        "# Örnek2: 5 farklı gömlekten 3 tanesi seçilip bir dolaba dizilecektir. Kaç farklı şekilde dizilim yapılabilir?\n",
        "\n",
        "n=5; #toplam eleman sayısı\n",
        "r=3;  #seçilecek, dizilecek eleman sayısı\n",
        "\n",
        "\n",
        "def faktoriyel(x):\n",
        "    carpim=1\n",
        "    i=1\n",
        "    while i<=x:\n",
        "        carpim=carpim*i  #faktöriyel hesabı fonksiyonu\n",
        "        i=i+1\n",
        "    return carpim\n",
        "\n",
        "\n",
        "sonuc1=faktoriyel(n)/(faktoriyel(r)*faktoriyel(n-r)) #Kmbnsyn C(n,r)=n!/r!*(n-r)!\n",
        "sonuc2=faktoriyel(n)/faktoriyel(n-r) #Permütasyon P(n,r)=n!/(n-r)!\n",
        "\n",
        "print(\"Örnek1 sonucu= \" + str(sonuc1) + \" Örnek2 sonucu= \" + str(sonuc2)) #sonucu ekrana yazdır.\n",
        "\n",
        "\n"
      ],
      "execution_count": 8,
      "outputs": [
        {
          "output_type": "stream",
          "text": [
            "Örnek1 sonucu= 10.0 Örnek2 sonucu= 60.0\n"
          ],
          "name": "stdout"
        }
      ]
    }
  ]
}