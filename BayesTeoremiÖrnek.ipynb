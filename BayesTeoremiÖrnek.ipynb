{
  "nbformat": 4,
  "nbformat_minor": 0,
  "metadata": {
    "colab": {
      "name": "Untitled3.ipynb",
      "version": "0.3.2",
      "provenance": [],
      "collapsed_sections": [],
      "include_colab_link": true
    },
    "kernelspec": {
      "name": "python3",
      "display_name": "Python 3"
    }
  },
  "cells": [
    {
      "cell_type": "markdown",
      "metadata": {
        "id": "view-in-github",
        "colab_type": "text"
      },
      "source": [
        "<a href=\"https://colab.research.google.com/github/mhrrm/1234/blob/master/BayesTeoremi%C3%96rnek.ipynb\" target=\"_parent\"><img src=\"https://colab.research.google.com/assets/colab-badge.svg\" alt=\"Open In Colab\"/></a>"
      ]
    },
    {
      "metadata": {
        "id": "xxyGOkhHZSj1",
        "colab_type": "code",
        "colab": {
          "base_uri": "https://localhost:8080/",
          "height": 35
        },
        "outputId": "8e1bb252-5bed-4ab2-984e-80335cec0d81"
      },
      "cell_type": "code",
      "source": [
        "# Ornek: Bir iş yerinde üretilen malların sağlam çıkma olasılığı 0,77'dır.\n",
        "# Kontrollerde malın hatasız olma durumunu tespit etme olasılığı 0,94'dir\n",
        "# Sağlam olmayan mala sağlam etiketi verme olasılığı 0,10'dir. Seçilen bir\n",
        "# malın gerçekte sağlam olma olasılığı nedir?\n",
        "\n",
        "pb1=0.77     #Malın sağlam çıkma olasılığı\n",
        "pab1=0.94    #Mal sağlam kararı verilirken malın sağlam olma olasılığı\n",
        "pb2=0.23     #Malın sağlam çıkmama olasılığı\n",
        "pab2=0.10    #Sağlam olmayan mala sağlam deme olasılığı\n",
        "\n",
        "#bayes fonksiyonu\n",
        "\n",
        "def bayes(pb1,pb2,pab1,pab2):\n",
        "\n",
        "    return(pb1*pab1)/((pb1*pab1)+(pb2*pab2))\n",
        "\n",
        "#işlemi yap\n",
        "sonuc=bayes(pb1,pb2,pab1,pab2)\n",
        "\n",
        "#sonucu ekrana yazdir.\n",
        "print(sonuc)"
      ],
      "execution_count": 1,
      "outputs": [
        {
          "output_type": "stream",
          "text": [
            "0.9692019282271023\n"
          ],
          "name": "stdout"
        }
      ]
    }
  ]
}