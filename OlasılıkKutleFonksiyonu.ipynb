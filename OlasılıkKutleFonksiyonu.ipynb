{
  "nbformat": 4,
  "nbformat_minor": 0,
  "metadata": {
    "colab": {
      "name": "Untitled4.ipynb",
      "version": "0.3.2",
      "provenance": [],
      "include_colab_link": true
    },
    "kernelspec": {
      "name": "python3",
      "display_name": "Python 3"
    }
  },
  "cells": [
    {
      "cell_type": "markdown",
      "metadata": {
        "id": "view-in-github",
        "colab_type": "text"
      },
      "source": [
        "<a href=\"https://colab.research.google.com/github/mhrrm/1234/blob/master/Olas%C4%B1l%C4%B1kKutleFonksiyonu.ipynb\" target=\"_parent\"><img src=\"https://colab.research.google.com/assets/colab-badge.svg\" alt=\"Open In Colab\"/></a>"
      ]
    },
    {
      "cell_type": "code",
      "metadata": {
        "id": "LINNDfnuNqz-",
        "colab_type": "code",
        "colab": {
          "base_uri": "https://localhost:8080/",
          "height": 72
        },
        "outputId": "cbaf4c14-0bce-414e-cfe7-e7f11701b884"
      },
      "source": [
        "fx=[1,2,3,4]\n",
        "\n",
        "def kBul(fx):\n",
        "    toplam=0\n",
        "    for sayi in fx:\n",
        "        toplam+= sayi\n",
        "    return 1/toplam\n",
        "\n",
        "def PXBul(X,k):\n",
        "    return X*k\n",
        "\n",
        "def ExBeklenenDegerBul(fx,k):\n",
        "    a=0\n",
        "    B=0\n",
        "    while a<len(fx):\n",
        "        B+=(a+1)*fx[a]*k\n",
        "        a=a+1\n",
        "    return B\n",
        "\n",
        "print (\"fx=[1,2,3,4] fonksiyonu icin k=\" + str(kBul(fx)))\n",
        "print (\"fx=[1,2,3,4] fonksiyonu icin P(X=2)=\" + str(PXBul(2,kBul(fx))))\n",
        "print (\"fx=[1,2,3,4] fonksiyonu icin E[x]=\" + str(ExBeklenenDegerBul(fx,kBul(fx))))\n"
      ],
      "execution_count": 1,
      "outputs": [
        {
          "output_type": "stream",
          "text": [
            "fx=[1,2,3,4] fonksiyonu icin k=0.1\n",
            "fx=[1,2,3,4] fonksiyonu icin P(X=2)=0.2\n",
            "fx=[1,2,3,4] fonksiyonu icin E[x]=3.0\n"
          ],
          "name": "stdout"
        }
      ]
    }
  ]
}